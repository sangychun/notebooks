{
 "cells": [
  {
   "cell_type": "markdown",
   "metadata": {},
   "source": [
    "# Python 3"
   ]
  },
  {
   "cell_type": "markdown",
   "metadata": {},
   "source": [
    "There are many reasons why, if you have not already, you should use Python 3 instead of Python 2. The simplest reason is that from 2020, Python 2 will no longer be supported. That means many developers who fully commit, or have already committed, to developing in Python 3 may no longer release new packages or updates for existing packages in Python 2. So, eventually, the only reason to use Python 2 would be those pipelines or package dependencies that rely on Python 2-specific libraries.\n",
    "\n",
    "As somone who learned to program primarily in Python 2, I too resisted making the change until relatively recently, but after having made that transition myself, I can attest that the change was not nearly as difficult as I had imagined it to be. In hindsight, I could very easily have made the transition from Python 2 to 3 much sooner, as many of the changes are very superficial (but enforce a greater consistency in object structure, for example) and only took a short time to get adjusted.\n",
    "\n",
    "Let's talk about some of the changes. I won't go into great depth about all of the changes, as [others](https://learntocodewith.me/programming/python/python-2-vs-python-3/#2018-differences-of-python2-vs-3) have already done so, thus I will only describe a few of the changes that I directly encountered.\n",
    "\n",
    "### **Changes from Python 2 to 3**\n",
    "\n",
    "##### `print`\n",
    "\n",
    "In Python 2, output could be streamed to standard output in a number of ways. These are maintained in Python, with one exception: `print`.\n",
    "\n",
    "For example, in Python 2 you could output the following:\n",
    "\n",
    "    print 'May the Force be with you.'\n",
    "    \n",
    "However, in Python 3 that no longer works:"
   ]
  },
  {
   "cell_type": "code",
   "execution_count": null,
   "metadata": {},
   "outputs": [],
   "source": [
    "print 'May the Force be with you.'"
   ]
  },
  {
   "cell_type": "code",
   "execution_count": null,
   "metadata": {},
   "outputs": [],
   "source": [
    "print('May the Force be with you.')"
   ]
  },
  {
   "cell_type": "code",
   "execution_count": null,
   "metadata": {},
   "outputs": [],
   "source": []
  }
 ],
 "metadata": {
  "kernelspec": {
   "display_name": "Python 3",
   "language": "python",
   "name": "python3"
  },
  "language_info": {
   "name": ""
  }
 },
 "nbformat": 4,
 "nbformat_minor": 2
}
